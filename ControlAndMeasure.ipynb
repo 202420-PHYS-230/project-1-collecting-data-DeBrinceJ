{
 "cells": [
  {
   "cell_type": "markdown",
   "metadata": {},
   "source": [
    "\n",
    "# Collecting Data: The Lab.\n",
    "\n",
    "The goal this week is to use a microcontroller to measure some of the characteristics of a circuit.\n",
    "\n",
    "The circuit we'll be using is shown in Figure 1, below.\n",
    "\n",
    "|Figure 1|\n",
    "|:-|\n",
    "|![Fig. 1: This Week's Circuit](images/divider.png){fig-align=\"left\" width=\"557\"}||\n",
    "|This Week's Circuit|\n",
    "\n",
    "Your instructor will provide your group with a microcontroller and a PCB with this circuit already constructed. You'll be using [CircuitPython](https://circuitpython.org/) to drive the `pin-17` terminal (labelled `Vdac` in the schematic) and collect data from the `pin-15` and `pin-10` terminals (labelled `adc1` and `adc2` in the schematic).\n",
    "\n",
    "You'll notice that there's a capacitor in the circuit. For the first experiment, we'll drive the circuit very slowly, so that the capacitor plays no role. Later, we'll consider the transient behavior of the circuit and you'll see that the capacitor can have a dramatic effect."
   ]
  },
  {
   "cell_type": "markdown",
   "metadata": {},
   "source": [
    "# CircuitPython\n",
    "\n",
    "[CircuitPython](https://circuitpython.org/) is a version of python that runs on small micro-controllers. It has many of the features of the python language you probably learned before, but it includes libraries that enable one to control and measure voltages on the input and output pins of the micro-controller. To program the microcontroller you'll need to take several steps.\n",
    "\n",
    "1. Install a microcontroller aware editor on your laptop. I suggest [Thonny](https://thonny.org/). There are others, but thonny is the simplest to install and use.\n",
    "2. Copy/Paste the \"starter code\" below into thonny and save \"starter.py\" to the device.\n",
    "3. Run the starter code, watch the output window to see the data being collected.\n",
    "4. Reset the device to see the updated output file.\n",
    "\n",
    "## 1: Thonny\n",
    "\n",
    "You can get Thonny [here](https://thonny.org/).\n",
    "\n",
    "Once you have it installed you can connect the microcontroller and see the port listed as shown in Figure 2.\n",
    "\n",
    "|Figure 2|\n",
    "|:-|\n",
    "|![Fig. 2: Thonny connected to ESP-S2](images/thonny.png){fig-align=\"left\" width=\"557\"}|\n",
    "|Thonny connected.|\n",
    "\n"
   ]
  },
  {
   "cell_type": "markdown",
   "metadata": {},
   "source": [
    "## 2: Starter code\n",
    "\n",
    "Copy/Paste this code into thonny. Your instructor should step you through the code to explain the bits that are not part of standard python. The non-standard parts are all confined to external libraries (like `board`, and `analogio`.) The idea of this program is to drive the resistor network on the board, and measure the voltages at a couple of test points, giving time for the capacitor to charge between changes.\n",
    "\n",
    "```\n",
    "import board # information about the physical microcontroller\n",
    "import analogio as aio # analog input and output library\n",
    "import time # standard python time library\n",
    "\n",
    "ADCMAX = 2**16-1 # maximum input/out from ADC or to DAC\n",
    "\n",
    "adc1 = aio.AnalogIn(board.IO15)  # to read voltage from pin 15\n",
    "adc2 = aio.AnalogIn(board.IO10)  # to read voltage from pin 10\n",
    "vfactor = adc1.reference_voltage/ADCMAX # get conversion factor voltage to pin\n",
    "\n",
    "vdac = aio.AnalogOut(board.IO17) # to control voltage on pin 17\n",
    "\n",
    "f = open('starter.csv','w')\n",
    "header = \"j,vdac,v1,v2,time\"\n",
    "\n",
    "\n",
    "vdac.value = 0 # set output voltage to zero\n",
    "print(\"sleeping.... let C fully discharge\")\n",
    "print(\"3\")\n",
    "time.sleep(1)\n",
    "print(\"2\")\n",
    "time.sleep(1)\n",
    "print(\"1\")\n",
    "time.sleep(1)\n",
    "print(\"0 --- go!\")\n",
    "\n",
    "f.write(header + \"\\n\")\n",
    "print(header)\n",
    "\n",
    "t0 = time.monotonic_ns()\n",
    "\n",
    "for i in range(0,255,5): # steps of 5 to save time\n",
    "    time.sleep(0.4) # let the cap charge....\n",
    "    t = time.monotonic_ns()-t0\n",
    "    vout = int((i/255)*ADCMAX)\n",
    "    vdac.value = vout\n",
    "    sval = f\"{i},{vout*vfactor},{adc1.value*vfactor},{adc2.value*vfactor},{t/1e9}\"\n",
    "    f.write(f\"{sval}\\n\")\n",
    "    print(sval)\n",
    "\n",
    "vdac.value = 0 # let the LED rest...\n",
    "f.close()\n",
    "```"
   ]
  },
  {
   "cell_type": "markdown",
   "metadata": {},
   "source": [
    "## 3: Run the code!\n",
    "\n",
    "You should see an output similar to that shown in Figure 3.\n",
    "\n",
    "|Figure 3|\n",
    "|:-|\n",
    "|![Fig. 3: Start code running](images/starter.png){fig-align=\"left\" width=\"557\"}|\n",
    "|Starter Code executed.|\n",
    "\n",
    "\n"
   ]
  },
  {
   "cell_type": "markdown",
   "metadata": {},
   "source": [
    "## 4: Reset the device\n",
    "\n",
    "Once the code is complete, you can press the `reset` button on the microcontroller. This will momentarily disconnect and remount the filesystem of the device. Note: the filesystem is mounted \"read only\" to your computer. This means that you cannot make changes to the filesystem from the file manager of the computer. Only the microcontroller can change the filesystem. Thonny is connected to the microcontroller software, so thonny ask the microcontroller to save updates to the files on the filesystem for you. To see changes to the filesystem from the computer file manager, you need to remount the filesystem, which requires a reset. Once you reset the device you can copy the `csv` file with the measured values to the project folder for analysis."
   ]
  },
  {
   "cell_type": "markdown",
   "metadata": {},
   "source": [
    "## 5: Check the data\n",
    "\n",
    "It's always good to check the data. As an example of just such a check we'll load the sample data from the `data/sample_data` folder and view it. You should save your *real* data in the `data` folder to keep it separate from the data in the `data/sample_data` folder.\n",
    "\n"
   ]
  },
  {
   "cell_type": "code",
   "execution_count": 13,
   "metadata": {
    "tags": [
     "divider_data"
    ]
   },
   "outputs": [
    {
     "data": {
      "text/html": [
       "<div>\n",
       "<style scoped>\n",
       "    .dataframe tbody tr th:only-of-type {\n",
       "        vertical-align: middle;\n",
       "    }\n",
       "\n",
       "    .dataframe tbody tr th {\n",
       "        vertical-align: top;\n",
       "    }\n",
       "\n",
       "    .dataframe thead th {\n",
       "        text-align: right;\n",
       "    }\n",
       "</style>\n",
       "<table border=\"1\" class=\"dataframe\">\n",
       "  <thead>\n",
       "    <tr style=\"text-align: right;\">\n",
       "      <th></th>\n",
       "      <th>j</th>\n",
       "      <th>vdac</th>\n",
       "      <th>v1</th>\n",
       "      <th>v2</th>\n",
       "      <th>time</th>\n",
       "    </tr>\n",
       "  </thead>\n",
       "  <tbody>\n",
       "    <tr>\n",
       "      <th>0</th>\n",
       "      <td>0</td>\n",
       "      <td>0.000000</td>\n",
       "      <td>0.095976</td>\n",
       "      <td>0.064958</td>\n",
       "      <td>0.399872</td>\n",
       "    </tr>\n",
       "    <tr>\n",
       "      <th>1</th>\n",
       "      <td>5</td>\n",
       "      <td>0.064656</td>\n",
       "      <td>0.136965</td>\n",
       "      <td>0.063950</td>\n",
       "      <td>0.802948</td>\n",
       "    </tr>\n",
       "    <tr>\n",
       "      <th>2</th>\n",
       "      <td>10</td>\n",
       "      <td>0.129361</td>\n",
       "      <td>0.195981</td>\n",
       "      <td>0.092955</td>\n",
       "      <td>1.205230</td>\n",
       "    </tr>\n",
       "    <tr>\n",
       "      <th>3</th>\n",
       "      <td>15</td>\n",
       "      <td>0.194067</td>\n",
       "      <td>0.255953</td>\n",
       "      <td>0.131980</td>\n",
       "      <td>1.607880</td>\n",
       "    </tr>\n",
       "    <tr>\n",
       "      <th>4</th>\n",
       "      <td>20</td>\n",
       "      <td>0.258773</td>\n",
       "      <td>0.315976</td>\n",
       "      <td>0.171961</td>\n",
       "      <td>2.010380</td>\n",
       "    </tr>\n",
       "  </tbody>\n",
       "</table>\n",
       "</div>"
      ],
      "text/plain": [
       "    j      vdac        v1        v2      time\n",
       "0   0  0.000000  0.095976  0.064958  0.399872\n",
       "1   5  0.064656  0.136965  0.063950  0.802948\n",
       "2  10  0.129361  0.195981  0.092955  1.205230\n",
       "3  15  0.194067  0.255953  0.131980  1.607880\n",
       "4  20  0.258773  0.315976  0.171961  2.010380"
      ]
     },
     "execution_count": 13,
     "metadata": {},
     "output_type": "execute_result"
    }
   ],
   "source": [
    "import pandas as pd\n",
    "import matplotlib.pyplot as plt\n",
    "\n",
    "df_resist = pd.read_csv('data/starter.csv')\n",
    "df_resist.head()"
   ]
  },
  {
   "cell_type": "code",
   "execution_count": 14,
   "metadata": {
    "tags": [
     "raw_divider_data"
    ]
   },
   "outputs": [
    {
     "data": {
      "image/png": "[encoded data removed]",
      "text/plain": [
       "<Figure size 640x480 with 1 Axes>"
      ]
     },
     "metadata": {},
     "output_type": "display_data"
    }
   ],
   "source": [
    "plt.plot(df_resist['vdac'], df_resist['v1'], 'b-', label='V1')\n",
    "plt.plot(df_resist['vdac'], df_resist['v2'], 'g-', label='V2')\n",
    "plt.title('Measured Voltages')\n",
    "plt.xlabel('VDAC (V)')\n",
    "plt.ylabel('ADC Voltages (V)')\n",
    "plt.grid()\n",
    "plt.legend()\n",
    "plt.show()"
   ]
  },
  {
   "cell_type": "markdown",
   "metadata": {},
   "source": [
    "## Evaluating the data\n",
    "\n",
    "What do you notice about this data? There are actually quite a few issues, but we'll discuss them later. The main point here is that you can view the data and assess whether it makes sense very easily. We'll analyze this data in the [CurveFitting](CurveFitting.ipynb) notebook."
   ]
  },
  {
   "cell_type": "markdown",
   "metadata": {},
   "source": [
    "## RC Time Constant measurement\n",
    "\n",
    "The next experiment is to charge the capacitor, and then measure the voltage on the capacitor as it discharges through the parallel combination of the two resistors. The code is prepared for you, but you need to understand it, so go through it carefully.\n",
    "\n",
    "```\n",
    "import analogio as aio\n",
    "import digitalio as dio\n",
    "import board\n",
    "import time\n",
    "\n",
    "ADCMAX = 2**16-1\n",
    "\n",
    "adc1 = aio.AnalogIn(board.IO13) # analog ports\n",
    "adc2 = aio.AnalogIn(board.IO15)\n",
    "adc3 = aio.AnalogIn(board.IO10)\n",
    "vfactor = adc1.reference_voltage/ADCMAX\n",
    "\n",
    "dout = dio.DigitalInOut(board.IO17) # digital output\n",
    "dout.direction = dio.Direction.OUTPUT\n",
    "\n",
    "f = open('decay.csv','w')\n",
    "header = \"j,v1,v2,v3,time\"\n",
    "\n",
    "data = []\n",
    "\n",
    "dout.value = 1\n",
    "print(\"sleeping.... let C fully charge\")\n",
    "print(\"3\")\n",
    "time.sleep(1)\n",
    "print(\"2\")\n",
    "time.sleep(1)\n",
    "print(\"1\")\n",
    "time.sleep(1)\n",
    "print(\"0 --- go!\")\n",
    "\n",
    "t0 = time.monotonic_ns()\n",
    "dout.value = 0\n",
    "\n",
    "for i in range(0,0xff,0x2): # measure quickly!\n",
    "    time.sleep(0.001)\n",
    "    data.append((i,adc1.value, adc2.value, adc3.value, time.monotonic_ns()-t0))\n",
    "\n",
    "f.write(header + \"\\n\")\n",
    "print(header)\n",
    "\n",
    "for i in range(len(data)):\n",
    "    j,v1,v2,v3,t = data[i]\n",
    "    sval = f\"{j},{v1*vfactor},{v2*vfactor},{v3*vfactor},{t/1e9}\"\n",
    "    f.write(f\"{sval}\\n\")\n",
    "    print(sval)\n",
    "    \n",
    "f.close()\n",
    "```\n",
    "\n"
   ]
  },
  {
   "cell_type": "code",
   "execution_count": 15,
   "metadata": {
    "tags": [
     "decay_raw_data"
    ]
   },
   "outputs": [
    {
     "data": {
      "text/html": [
       "<div>\n",
       "<style scoped>\n",
       "    .dataframe tbody tr th:only-of-type {\n",
       "        vertical-align: middle;\n",
       "    }\n",
       "\n",
       "    .dataframe tbody tr th {\n",
       "        vertical-align: top;\n",
       "    }\n",
       "\n",
       "    .dataframe thead th {\n",
       "        text-align: right;\n",
       "    }\n",
       "</style>\n",
       "<table border=\"1\" class=\"dataframe\">\n",
       "  <thead>\n",
       "    <tr style=\"text-align: right;\">\n",
       "      <th></th>\n",
       "      <th>j</th>\n",
       "      <th>v1</th>\n",
       "      <th>v2</th>\n",
       "      <th>v3</th>\n",
       "      <th>time</th>\n",
       "    </tr>\n",
       "  </thead>\n",
       "  <tbody>\n",
       "    <tr>\n",
       "      <th>0</th>\n",
       "      <td>0</td>\n",
       "      <td>0.061987</td>\n",
       "      <td>0.061987</td>\n",
       "      <td>1.96796</td>\n",
       "      <td>0.002106</td>\n",
       "    </tr>\n",
       "    <tr>\n",
       "      <th>1</th>\n",
       "      <td>2</td>\n",
       "      <td>0.058965</td>\n",
       "      <td>0.058965</td>\n",
       "      <td>1.91096</td>\n",
       "      <td>0.003967</td>\n",
       "    </tr>\n",
       "    <tr>\n",
       "      <th>2</th>\n",
       "      <td>4</td>\n",
       "      <td>0.056951</td>\n",
       "      <td>0.055995</td>\n",
       "      <td>1.85799</td>\n",
       "      <td>0.005768</td>\n",
       "    </tr>\n",
       "    <tr>\n",
       "      <th>3</th>\n",
       "      <td>6</td>\n",
       "      <td>0.055995</td>\n",
       "      <td>0.055995</td>\n",
       "      <td>1.80597</td>\n",
       "      <td>0.007599</td>\n",
       "    </tr>\n",
       "    <tr>\n",
       "      <th>4</th>\n",
       "      <td>8</td>\n",
       "      <td>0.054987</td>\n",
       "      <td>0.053980</td>\n",
       "      <td>1.76000</td>\n",
       "      <td>0.009399</td>\n",
       "    </tr>\n",
       "  </tbody>\n",
       "</table>\n",
       "</div>"
      ],
      "text/plain": [
       "   j        v1        v2       v3      time\n",
       "0  0  0.061987  0.061987  1.96796  0.002106\n",
       "1  2  0.058965  0.058965  1.91096  0.003967\n",
       "2  4  0.056951  0.055995  1.85799  0.005768\n",
       "3  6  0.055995  0.055995  1.80597  0.007599\n",
       "4  8  0.054987  0.053980  1.76000  0.009399"
      ]
     },
     "execution_count": 15,
     "metadata": {},
     "output_type": "execute_result"
    }
   ],
   "source": [
    "df_decay = pd.read_csv('data/decay.csv')\n",
    "df_decay.head()"
   ]
  },
  {
   "cell_type": "code",
   "execution_count": 16,
   "metadata": {
    "tags": [
     "decay_raw_graph"
    ]
   },
   "outputs": [
    {
     "data": {
      "image/png": "[encoded data removed]",
      "text/plain": [
       "<Figure size 640x480 with 1 Axes>"
      ]
     },
     "metadata": {},
     "output_type": "display_data"
    }
   ],
   "source": [
    "plt.plot(df_decay['time'], df_decay['v3'], 'b-', label='V3')\n",
    "plt.title('Measured Voltage: RC Decay')\n",
    "plt.xlabel('time (s)')\n",
    "plt.ylabel('V3 (capacitor voltage, V)')\n",
    "plt.grid()\n",
    "plt.legend()\n",
    "plt.show()"
   ]
  },
  {
   "cell_type": "markdown",
   "metadata": {},
   "source": [
    "Clearly this is not linear, so we'll need to find some way to \"linearize\" it for analysis. More on that soon!"
   ]
  }
 ],
 "metadata": {
  "kernelspec": {
   "display_name": "phenv",
   "language": "python",
   "name": "python3"
  },
  "language_info": {
   "codemirror_mode": {
    "name": "ipython",
    "version": 3
   },
   "file_extension": ".py",
   "mimetype": "text/x-python",
   "name": "python",
   "nbconvert_exporter": "python",
   "pygments_lexer": "ipython3",
   "version": "3.12.8"
  }
 },
 "nbformat": 4,
 "nbformat_minor": 2
}
